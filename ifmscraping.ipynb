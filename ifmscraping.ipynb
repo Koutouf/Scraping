{
  "nbformat": 4,
  "nbformat_minor": 0,
  "metadata": {
    "colab": {
      "provenance": [],
      "authorship_tag": "ABX9TyOVS1iWhusCwDTeWI51n79d",
      "include_colab_link": true
    },
    "kernelspec": {
      "name": "python3",
      "display_name": "Python 3"
    },
    "language_info": {
      "name": "python"
    }
  },
  "cells": [
    {
      "cell_type": "markdown",
      "metadata": {
        "id": "view-in-github",
        "colab_type": "text"
      },
      "source": [
        "<a href=\"https://colab.research.google.com/github/Koutouf/Scraping/blob/main/ifmscraping.ipynb\" target=\"_parent\"><img src=\"https://colab.research.google.com/assets/colab-badge.svg\" alt=\"Open In Colab\"/></a>"
      ]
    },
    {
      "cell_type": "code",
      "execution_count": 1,
      "metadata": {
        "id": "g0TGCVLVqBXF",
        "colab": {
          "base_uri": "https://localhost:8080/"
        },
        "outputId": "7175014f-de1e-4a56-f0b7-1a1a76f04009"
      },
      "outputs": [
        {
          "output_type": "stream",
          "name": "stdout",
          "text": [
            "Collecting scrapy\n",
            "  Downloading Scrapy-2.11.2-py2.py3-none-any.whl.metadata (5.3 kB)\n",
            "Collecting Twisted>=18.9.0 (from scrapy)\n",
            "  Downloading twisted-24.3.0-py3-none-any.whl.metadata (9.5 kB)\n",
            "Requirement already satisfied: cryptography>=36.0.0 in /usr/local/lib/python3.10/dist-packages (from scrapy) (42.0.8)\n",
            "Collecting cssselect>=0.9.1 (from scrapy)\n",
            "  Downloading cssselect-1.2.0-py2.py3-none-any.whl.metadata (2.2 kB)\n",
            "Collecting itemloaders>=1.0.1 (from scrapy)\n",
            "  Downloading itemloaders-1.3.1-py3-none-any.whl.metadata (3.9 kB)\n",
            "Collecting parsel>=1.5.0 (from scrapy)\n",
            "  Downloading parsel-1.9.1-py2.py3-none-any.whl.metadata (11 kB)\n",
            "Requirement already satisfied: pyOpenSSL>=21.0.0 in /usr/local/lib/python3.10/dist-packages (from scrapy) (24.2.1)\n",
            "Collecting queuelib>=1.4.2 (from scrapy)\n",
            "  Downloading queuelib-1.7.0-py2.py3-none-any.whl.metadata (5.7 kB)\n",
            "Collecting service-identity>=18.1.0 (from scrapy)\n",
            "  Downloading service_identity-24.1.0-py3-none-any.whl.metadata (4.8 kB)\n",
            "Collecting w3lib>=1.17.0 (from scrapy)\n",
            "  Downloading w3lib-2.2.1-py3-none-any.whl.metadata (2.1 kB)\n",
            "Collecting zope.interface>=5.1.0 (from scrapy)\n",
            "  Downloading zope.interface-6.4.post2-cp310-cp310-manylinux_2_5_x86_64.manylinux1_x86_64.manylinux_2_17_x86_64.manylinux2014_x86_64.whl.metadata (42 kB)\n",
            "\u001b[2K     \u001b[90m━━━━━━━━━━━━━━━━━━━━━━━━━━━━━━━━━━━━━━━━\u001b[0m \u001b[32m42.9/42.9 kB\u001b[0m \u001b[31m1.1 MB/s\u001b[0m eta \u001b[36m0:00:00\u001b[0m\n",
            "\u001b[?25hCollecting protego>=0.1.15 (from scrapy)\n",
            "  Downloading Protego-0.3.1-py2.py3-none-any.whl.metadata (5.9 kB)\n",
            "Collecting itemadapter>=0.1.0 (from scrapy)\n",
            "  Downloading itemadapter-0.9.0-py3-none-any.whl.metadata (17 kB)\n",
            "Requirement already satisfied: setuptools in /usr/local/lib/python3.10/dist-packages (from scrapy) (71.0.4)\n",
            "Requirement already satisfied: packaging in /usr/local/lib/python3.10/dist-packages (from scrapy) (24.1)\n",
            "Collecting tldextract (from scrapy)\n",
            "  Downloading tldextract-5.1.2-py3-none-any.whl.metadata (11 kB)\n",
            "Requirement already satisfied: lxml>=4.4.1 in /usr/local/lib/python3.10/dist-packages (from scrapy) (4.9.4)\n",
            "Requirement already satisfied: defusedxml>=0.7.1 in /usr/local/lib/python3.10/dist-packages (from scrapy) (0.7.1)\n",
            "Collecting PyDispatcher>=2.0.5 (from scrapy)\n",
            "  Downloading PyDispatcher-2.0.7-py3-none-any.whl.metadata (2.4 kB)\n",
            "Requirement already satisfied: cffi>=1.12 in /usr/local/lib/python3.10/dist-packages (from cryptography>=36.0.0->scrapy) (1.16.0)\n",
            "Collecting jmespath>=0.9.5 (from itemloaders>=1.0.1->scrapy)\n",
            "  Downloading jmespath-1.0.1-py3-none-any.whl.metadata (7.6 kB)\n",
            "Requirement already satisfied: attrs>=19.1.0 in /usr/local/lib/python3.10/dist-packages (from service-identity>=18.1.0->scrapy) (23.2.0)\n",
            "Requirement already satisfied: pyasn1 in /usr/local/lib/python3.10/dist-packages (from service-identity>=18.1.0->scrapy) (0.6.0)\n",
            "Requirement already satisfied: pyasn1-modules in /usr/local/lib/python3.10/dist-packages (from service-identity>=18.1.0->scrapy) (0.4.0)\n",
            "Collecting automat>=0.8.0 (from Twisted>=18.9.0->scrapy)\n",
            "  Downloading Automat-22.10.0-py2.py3-none-any.whl.metadata (1.0 kB)\n",
            "Collecting constantly>=15.1 (from Twisted>=18.9.0->scrapy)\n",
            "  Downloading constantly-23.10.4-py3-none-any.whl.metadata (1.8 kB)\n",
            "Collecting hyperlink>=17.1.1 (from Twisted>=18.9.0->scrapy)\n",
            "  Downloading hyperlink-21.0.0-py2.py3-none-any.whl.metadata (1.5 kB)\n",
            "Collecting incremental>=22.10.0 (from Twisted>=18.9.0->scrapy)\n",
            "  Downloading incremental-24.7.1-py3-none-any.whl.metadata (8.1 kB)\n",
            "Requirement already satisfied: typing-extensions>=4.2.0 in /usr/local/lib/python3.10/dist-packages (from Twisted>=18.9.0->scrapy) (4.12.2)\n",
            "Requirement already satisfied: idna in /usr/local/lib/python3.10/dist-packages (from tldextract->scrapy) (3.7)\n",
            "Requirement already satisfied: requests>=2.1.0 in /usr/local/lib/python3.10/dist-packages (from tldextract->scrapy) (2.31.0)\n",
            "Collecting requests-file>=1.4 (from tldextract->scrapy)\n",
            "  Downloading requests_file-2.1.0-py2.py3-none-any.whl.metadata (1.7 kB)\n",
            "Requirement already satisfied: filelock>=3.0.8 in /usr/local/lib/python3.10/dist-packages (from tldextract->scrapy) (3.15.4)\n",
            "Requirement already satisfied: six in /usr/local/lib/python3.10/dist-packages (from automat>=0.8.0->Twisted>=18.9.0->scrapy) (1.16.0)\n",
            "Requirement already satisfied: pycparser in /usr/local/lib/python3.10/dist-packages (from cffi>=1.12->cryptography>=36.0.0->scrapy) (2.22)\n",
            "Requirement already satisfied: tomli in /usr/local/lib/python3.10/dist-packages (from incremental>=22.10.0->Twisted>=18.9.0->scrapy) (2.0.1)\n",
            "Requirement already satisfied: charset-normalizer<4,>=2 in /usr/local/lib/python3.10/dist-packages (from requests>=2.1.0->tldextract->scrapy) (3.3.2)\n",
            "Requirement already satisfied: urllib3<3,>=1.21.1 in /usr/local/lib/python3.10/dist-packages (from requests>=2.1.0->tldextract->scrapy) (2.0.7)\n",
            "Requirement already satisfied: certifi>=2017.4.17 in /usr/local/lib/python3.10/dist-packages (from requests>=2.1.0->tldextract->scrapy) (2024.7.4)\n",
            "Downloading Scrapy-2.11.2-py2.py3-none-any.whl (290 kB)\n",
            "\u001b[2K   \u001b[90m━━━━━━━━━━━━━━━━━━━━━━━━━━━━━━━━━━━━━━━━\u001b[0m \u001b[32m290.1/290.1 kB\u001b[0m \u001b[31m6.2 MB/s\u001b[0m eta \u001b[36m0:00:00\u001b[0m\n",
            "\u001b[?25hDownloading cssselect-1.2.0-py2.py3-none-any.whl (18 kB)\n",
            "Downloading itemadapter-0.9.0-py3-none-any.whl (11 kB)\n",
            "Downloading itemloaders-1.3.1-py3-none-any.whl (12 kB)\n",
            "Downloading parsel-1.9.1-py2.py3-none-any.whl (17 kB)\n",
            "Downloading Protego-0.3.1-py2.py3-none-any.whl (8.5 kB)\n",
            "Downloading PyDispatcher-2.0.7-py3-none-any.whl (12 kB)\n",
            "Downloading queuelib-1.7.0-py2.py3-none-any.whl (13 kB)\n",
            "Downloading service_identity-24.1.0-py3-none-any.whl (12 kB)\n",
            "Downloading twisted-24.3.0-py3-none-any.whl (3.2 MB)\n",
            "\u001b[2K   \u001b[90m━━━━━━━━━━━━━━━━━━━━━━━━━━━━━━━━━━━━━━━━\u001b[0m \u001b[32m3.2/3.2 MB\u001b[0m \u001b[31m47.1 MB/s\u001b[0m eta \u001b[36m0:00:00\u001b[0m\n",
            "\u001b[?25hDownloading w3lib-2.2.1-py3-none-any.whl (21 kB)\n",
            "Downloading zope.interface-6.4.post2-cp310-cp310-manylinux_2_5_x86_64.manylinux1_x86_64.manylinux_2_17_x86_64.manylinux2014_x86_64.whl (247 kB)\n",
            "\u001b[2K   \u001b[90m━━━━━━━━━━━━━━━━━━━━━━━━━━━━━━━━━━━━━━━━\u001b[0m \u001b[32m247.8/247.8 kB\u001b[0m \u001b[31m9.7 MB/s\u001b[0m eta \u001b[36m0:00:00\u001b[0m\n",
            "\u001b[?25hDownloading tldextract-5.1.2-py3-none-any.whl (97 kB)\n",
            "\u001b[2K   \u001b[90m━━━━━━━━━━━━━━━━━━━━━━━━━━━━━━━━━━━━━━━━\u001b[0m \u001b[32m97.6/97.6 kB\u001b[0m \u001b[31m3.5 MB/s\u001b[0m eta \u001b[36m0:00:00\u001b[0m\n",
            "\u001b[?25hDownloading Automat-22.10.0-py2.py3-none-any.whl (26 kB)\n",
            "Downloading constantly-23.10.4-py3-none-any.whl (13 kB)\n",
            "Downloading hyperlink-21.0.0-py2.py3-none-any.whl (74 kB)\n",
            "\u001b[2K   \u001b[90m━━━━━━━━━━━━━━━━━━━━━━━━━━━━━━━━━━━━━━━━\u001b[0m \u001b[32m74.6/74.6 kB\u001b[0m \u001b[31m5.0 MB/s\u001b[0m eta \u001b[36m0:00:00\u001b[0m\n",
            "\u001b[?25hDownloading incremental-24.7.1-py3-none-any.whl (20 kB)\n",
            "Downloading jmespath-1.0.1-py3-none-any.whl (20 kB)\n",
            "Downloading requests_file-2.1.0-py2.py3-none-any.whl (4.2 kB)\n",
            "Installing collected packages: PyDispatcher, zope.interface, w3lib, queuelib, protego, jmespath, itemadapter, incremental, hyperlink, cssselect, constantly, automat, Twisted, requests-file, parsel, tldextract, service-identity, itemloaders, scrapy\n",
            "Successfully installed PyDispatcher-2.0.7 Twisted-24.3.0 automat-22.10.0 constantly-23.10.4 cssselect-1.2.0 hyperlink-21.0.0 incremental-24.7.1 itemadapter-0.9.0 itemloaders-1.3.1 jmespath-1.0.1 parsel-1.9.1 protego-0.3.1 queuelib-1.7.0 requests-file-2.1.0 scrapy-2.11.2 service-identity-24.1.0 tldextract-5.1.2 w3lib-2.2.1 zope.interface-6.4.post2\n"
          ]
        }
      ],
      "source": [
        "!pip install scrapy"
      ]
    },
    {
      "cell_type": "code",
      "source": [
        "!scrapy startproject ifmnews"
      ],
      "metadata": {
        "colab": {
          "base_uri": "https://localhost:8080/"
        },
        "id": "ZvIuEdrG3Pr9",
        "outputId": "ffb4e4c8-cbbe-408d-f54a-25f1504d7a2e"
      },
      "execution_count": 2,
      "outputs": [
        {
          "output_type": "stream",
          "name": "stdout",
          "text": [
            "New Scrapy project 'ifmnews', using template directory '/usr/local/lib/python3.10/dist-packages/scrapy/templates/project', created in:\n",
            "    /content/ifmnews\n",
            "\n",
            "You can start your first spider with:\n",
            "    cd ifmnews\n",
            "    scrapy genspider example example.com\n"
          ]
        }
      ]
    },
    {
      "cell_type": "code",
      "source": [
        "%cd ifmnews/ifmnews/spiders"
      ],
      "metadata": {
        "colab": {
          "base_uri": "https://localhost:8080/"
        },
        "id": "au6ocOWT5sTa",
        "outputId": "cd1a376b-d95f-423c-dbd4-abfdef9649e3"
      },
      "execution_count": 3,
      "outputs": [
        {
          "output_type": "stream",
          "name": "stdout",
          "text": [
            "/content/ifmnews/ifmnews/spiders\n"
          ]
        }
      ]
    },
    {
      "cell_type": "code",
      "source": [
        "!scrapy genspider ifm https://www.ifm.tn//ar/articles"
      ],
      "metadata": {
        "colab": {
          "base_uri": "https://localhost:8080/"
        },
        "id": "PYry6qAC5-y0",
        "outputId": "38396f60-5b0b-4bcb-90f6-32edc15c284b"
      },
      "execution_count": 4,
      "outputs": [
        {
          "output_type": "stream",
          "name": "stdout",
          "text": [
            "Created spider 'ifm' using template 'basic' in module:\n",
            "  ifmnews.spiders.ifm\n"
          ]
        }
      ]
    },
    {
      "cell_type": "code",
      "source": [
        "%%writefile ifmnews.py\n",
        "import scrapy\n",
        "class IfmSpider(scrapy.Spider):\n",
        "    name = \"ifmnews\"\n",
        "    allowed_domains = [\"www.ifm.tn\"]\n",
        "    start_urls = [\"https://www.ifm.tn//ar/articles\"]\n",
        "    def parse(self, response):\n",
        "        news=response.css('div.row')\n",
        "        for n in news:\n",
        "          yield{\n",
        "            'title':n.css('div h4 a::text').get(),\n",
        "            'description': n.css('div div p::text').get(),\n",
        "            'date': n.css('div div span.date::text').get(),\n",
        "          }\n"
      ],
      "metadata": {
        "colab": {
          "base_uri": "https://localhost:8080/"
        },
        "id": "UdiIiveq6P6B",
        "outputId": "9ecaa6a1-6d89-4bc7-8357-0589b723ef02"
      },
      "execution_count": 5,
      "outputs": [
        {
          "output_type": "stream",
          "name": "stdout",
          "text": [
            "Writing ifmnews.py\n"
          ]
        }
      ]
    },
    {
      "cell_type": "code",
      "source": [
        "!scrapy crawl ifmnews -o news_data.json"
      ],
      "metadata": {
        "colab": {
          "base_uri": "https://localhost:8080/"
        },
        "id": "RKFB4pu_7mg1",
        "outputId": "1ce0b1d8-8ed1-4c03-acb5-15d30aff815f"
      },
      "execution_count": 6,
      "outputs": [
        {
          "output_type": "stream",
          "name": "stdout",
          "text": [
            "2024-07-28 14:15:45 [scrapy.utils.log] INFO: Scrapy 2.11.2 started (bot: ifmnews)\n",
            "2024-07-28 14:15:45 [scrapy.utils.log] INFO: Versions: lxml 4.9.4.0, libxml2 2.10.3, cssselect 1.2.0, parsel 1.9.1, w3lib 2.2.1, Twisted 24.3.0, Python 3.10.12 (main, Mar 22 2024, 16:50:05) [GCC 11.4.0], pyOpenSSL 24.2.1 (OpenSSL 3.2.2 4 Jun 2024), cryptography 42.0.8, Platform Linux-6.1.85+-x86_64-with-glibc2.35\n",
            "2024-07-28 14:15:45 [scrapy.addons] INFO: Enabled addons:\n",
            "[]\n",
            "2024-07-28 14:15:45 [asyncio] DEBUG: Using selector: EpollSelector\n",
            "2024-07-28 14:15:45 [scrapy.utils.log] DEBUG: Using reactor: twisted.internet.asyncioreactor.AsyncioSelectorReactor\n",
            "2024-07-28 14:15:45 [scrapy.utils.log] DEBUG: Using asyncio event loop: asyncio.unix_events._UnixSelectorEventLoop\n",
            "2024-07-28 14:15:45 [scrapy.extensions.telnet] INFO: Telnet Password: 8237401f2c80511f\n",
            "2024-07-28 14:15:45 [scrapy.middleware] INFO: Enabled extensions:\n",
            "['scrapy.extensions.corestats.CoreStats',\n",
            " 'scrapy.extensions.telnet.TelnetConsole',\n",
            " 'scrapy.extensions.memusage.MemoryUsage',\n",
            " 'scrapy.extensions.feedexport.FeedExporter',\n",
            " 'scrapy.extensions.logstats.LogStats']\n",
            "2024-07-28 14:15:45 [scrapy.crawler] INFO: Overridden settings:\n",
            "{'BOT_NAME': 'ifmnews',\n",
            " 'FEED_EXPORT_ENCODING': 'utf-8',\n",
            " 'NEWSPIDER_MODULE': 'ifmnews.spiders',\n",
            " 'REQUEST_FINGERPRINTER_IMPLEMENTATION': '2.7',\n",
            " 'ROBOTSTXT_OBEY': True,\n",
            " 'SPIDER_MODULES': ['ifmnews.spiders'],\n",
            " 'TWISTED_REACTOR': 'twisted.internet.asyncioreactor.AsyncioSelectorReactor'}\n",
            "2024-07-28 14:15:45 [scrapy.middleware] INFO: Enabled downloader middlewares:\n",
            "['scrapy.downloadermiddlewares.offsite.OffsiteMiddleware',\n",
            " 'scrapy.downloadermiddlewares.robotstxt.RobotsTxtMiddleware',\n",
            " 'scrapy.downloadermiddlewares.httpauth.HttpAuthMiddleware',\n",
            " 'scrapy.downloadermiddlewares.downloadtimeout.DownloadTimeoutMiddleware',\n",
            " 'scrapy.downloadermiddlewares.defaultheaders.DefaultHeadersMiddleware',\n",
            " 'scrapy.downloadermiddlewares.useragent.UserAgentMiddleware',\n",
            " 'scrapy.downloadermiddlewares.retry.RetryMiddleware',\n",
            " 'scrapy.downloadermiddlewares.redirect.MetaRefreshMiddleware',\n",
            " 'scrapy.downloadermiddlewares.httpcompression.HttpCompressionMiddleware',\n",
            " 'scrapy.downloadermiddlewares.redirect.RedirectMiddleware',\n",
            " 'scrapy.downloadermiddlewares.cookies.CookiesMiddleware',\n",
            " 'scrapy.downloadermiddlewares.httpproxy.HttpProxyMiddleware',\n",
            " 'scrapy.downloadermiddlewares.stats.DownloaderStats']\n",
            "2024-07-28 14:15:45 [scrapy.middleware] INFO: Enabled spider middlewares:\n",
            "['scrapy.spidermiddlewares.httperror.HttpErrorMiddleware',\n",
            " 'scrapy.spidermiddlewares.referer.RefererMiddleware',\n",
            " 'scrapy.spidermiddlewares.urllength.UrlLengthMiddleware',\n",
            " 'scrapy.spidermiddlewares.depth.DepthMiddleware']\n",
            "2024-07-28 14:15:45 [scrapy.middleware] INFO: Enabled item pipelines:\n",
            "[]\n",
            "2024-07-28 14:15:45 [scrapy.core.engine] INFO: Spider opened\n",
            "2024-07-28 14:15:45 [scrapy.extensions.logstats] INFO: Crawled 0 pages (at 0 pages/min), scraped 0 items (at 0 items/min)\n",
            "2024-07-28 14:15:45 [scrapy.extensions.telnet] INFO: Telnet console listening on 127.0.0.1:6023\n",
            "2024-07-28 14:15:46 [scrapy.core.engine] DEBUG: Crawled (403) <GET https://www.ifm.tn/robots.txt> (referer: None)\n",
            "2024-07-28 14:15:47 [urllib3.connectionpool] DEBUG: Starting new HTTPS connection (1): publicsuffix.org:443\n",
            "2024-07-28 14:15:47 [urllib3.connectionpool] DEBUG: https://publicsuffix.org:443 \"GET /list/public_suffix_list.dat HTTP/1.1\" 200 86738\n",
            "2024-07-28 14:15:47 [scrapy.core.engine] DEBUG: Crawled (200) <GET https://www.ifm.tn//ar/articles> (referer: None)\n",
            "2024-07-28 14:15:47 [scrapy.core.scraper] DEBUG: Scraped from <200 https://www.ifm.tn//ar/articles>\n",
            "{'title': None, 'description': None, 'date': None}\n",
            "2024-07-28 14:15:47 [scrapy.core.scraper] DEBUG: Scraped from <200 https://www.ifm.tn//ar/articles>\n",
            "{'title': None, 'description': None, 'date': None}\n",
            "2024-07-28 14:15:47 [scrapy.core.scraper] DEBUG: Scraped from <200 https://www.ifm.tn//ar/articles>\n",
            "{'title': 'فقدان طفل الـ4 سنوات في شاطئ حلق الواد الزوارع بنفزة\\xa0', 'description': 'أكد المدير الجهوي للحماية المدنية بباجة العميد معز بن خليفة في تصريح لمراسل إي أف أم بالجهة جمال الخ...', 'date': 'الأحد 28 جويلية 2024 - 15:02'}\n",
            "2024-07-28 14:15:47 [scrapy.core.scraper] DEBUG: Scraped from <200 https://www.ifm.tn//ar/articles>\n",
            "{'title': 'فقدان طفل الـ4 سنوات في شاطئ حلق الواد الزوارع بنفزة\\xa0', 'description': 'أكد المدير الجهوي للحماية المدنية بباجة العميد معز بن خليفة في تصريح لمراسل إي أف أم بالجهة جمال الخ...', 'date': 'الأحد 28 جويلية 2024 - 15:02'}\n",
            "2024-07-28 14:15:47 [scrapy.core.scraper] DEBUG: Scraped from <200 https://www.ifm.tn//ar/articles>\n",
            "{'title': 'باجة-نفزة : حادث أليم يسفر عن وفاة أب وابنته ونقل الأخرى إلى المستشفى', 'description': 'جد منتصف نهار اليوم الأحد 28 جويلية 2024 حادث مرور مؤلم على مستوى الطريق الرابطة بين معتمدية نفزة من...', 'date': 'الأحد 28 جويلية 2024 - 14:47'}\n",
            "2024-07-28 14:15:47 [scrapy.core.scraper] DEBUG: Scraped from <200 https://www.ifm.tn//ar/articles>\n",
            "{'title': \"''حرقة'' لعون سطح يعمل على متن باخرة تانيت\\xa0\", 'description': 'أكدت مصادر مطلعة لمراسل إي أف أم منتصر ساسي أنه تم تسجيل عملية \"حرقة\" لعون سطح عامل على متن باخرة ال...', 'date': 'السبت 27 جويلية 2024 - 23:07'}\n",
            "2024-07-28 14:15:47 [scrapy.core.scraper] DEBUG: Scraped from <200 https://www.ifm.tn//ar/articles>\n",
            "{'title': 'جندوبة: أعطاب في شبكة مياه الري بسبب الربط العشوائي', 'description': 'نشرت المندوبية الجهوية للتنمية الفلاحية بجندوبة، على صفحتها الرسمية بشبكات التواصل الاجتماعي إعلانا...', 'date': 'السبت 27 جويلية 2024 - 22:46'}\n",
            "2024-07-28 14:15:47 [scrapy.core.scraper] DEBUG: Scraped from <200 https://www.ifm.tn//ar/articles>\n",
            "{'title': 'صفاقس:\\xa0إفتتاح\\xa0مصيف الكتاب بفضاء الكازينو الساحلي', 'description': 'افتتح البارحة الجمعة 26 جويلية\\xa0بفضاء الكازينو بصفاقس،\\xa0مصيف الكتاب الذي ستختتم فعالياته\\xa0يوم 12 أوت ال...', 'date': 'السبت 27 جويلية 2024 - 17:09'}\n",
            "2024-07-28 14:15:47 [scrapy.core.scraper] DEBUG: Scraped from <200 https://www.ifm.tn//ar/articles>\n",
            "{'title': '\\xa0 أشغال مشروع\\xa0حماية مدينة منزل عبد الرحمان من الفيضانات تعيق حركة المواطنين', 'description': 'تتواصل\\xa0 أشغال مشروع\\xa0حماية مدينة منزل عبد الرحمان من الفيضانات\\xa0على مستوى شارع الحبيب بورقيبة الشريان...', 'date': 'السبت 27 جويلية 2024 - 16:28'}\n",
            "2024-07-28 14:15:47 [scrapy.core.scraper] DEBUG: Scraped from <200 https://www.ifm.tn//ar/articles>\n",
            "{'title': 'اتحاد الشغل بقبلي يعقد هيئة إدارية وهذا ما تم تداوله', 'description': 'احتضن\\xa0مقر الاتحاد الجهوي للشغل بقبلي، صباح اليوم السبت 27 جويلية،\\xa0أشغال الهئىية الادارية تحت إشراف ع...', 'date': 'السبت 27 جويلية 2024 - 14:29'}\n",
            "2024-07-28 14:15:47 [scrapy.core.scraper] DEBUG: Scraped from <200 https://www.ifm.tn//ar/articles>\n",
            "{'title': 'المهدية: ضبط عنصر تكفيري صادر في شأنه أحكاما سجنية', 'description': 'تمكنت الوحدات الإستعلاماتية بمنطقة الحرس الوطني بالمهدية ووحدات التوقي من الإرهاب بإقليم المهدية من...', 'date': 'السبت 27 جويلية 2024 - 13:08'}\n",
            "2024-07-28 14:15:47 [scrapy.core.scraper] DEBUG: Scraped from <200 https://www.ifm.tn//ar/articles>\n",
            "{'title': 'الحشرة القرمزية: وفد مختص يزور القيروان وسط استياء من المتضررين', 'description': 'في إطار تنفيذ عناصر الخطة الوطنية لمكافحة الحشرة القرمزية قام وفد مختص في هذا المجال بزيارة ميدانية...', 'date': 'السبت 27 جويلية 2024 - 12:41'}\n",
            "2024-07-28 14:15:47 [scrapy.core.scraper] DEBUG: Scraped from <200 https://www.ifm.tn//ar/articles>\n",
            "{'title': '\\xa0كان على متنه 17 بحارا:  اندلاع حريق بمركب صيد في عرض البحر بسواحل طبلبة', 'description': 'اندلع حريق بمركب صيد (على متنه 17 بحارا)\\xa0بسواحل مدينة طبلبة من ولاية المنستير وفي عرض البحر، عشية أم...', 'date': 'السبت 27 جويلية 2024 - 12:28'}\n",
            "2024-07-28 14:15:47 [scrapy.core.scraper] DEBUG: Scraped from <200 https://www.ifm.tn//ar/articles>\n",
            "{'title': None, 'description': None, 'date': None}\n",
            "2024-07-28 14:15:47 [scrapy.core.scraper] DEBUG: Scraped from <200 https://www.ifm.tn//ar/articles>\n",
            "{'title': None, 'description': None, 'date': None}\n",
            "2024-07-28 14:15:47 [scrapy.core.scraper] DEBUG: Scraped from <200 https://www.ifm.tn//ar/articles>\n",
            "{'title': None, 'description': '© ', 'date': None}\n",
            "2024-07-28 14:15:47 [scrapy.core.engine] INFO: Closing spider (finished)\n",
            "2024-07-28 14:15:47 [scrapy.extensions.feedexport] INFO: Stored json feed (16 items) in: news_data.json\n",
            "2024-07-28 14:15:47 [scrapy.statscollectors] INFO: Dumping Scrapy stats:\n",
            "{'downloader/request_bytes': 444,\n",
            " 'downloader/request_count': 2,\n",
            " 'downloader/request_method_count/GET': 2,\n",
            " 'downloader/response_bytes': 14828,\n",
            " 'downloader/response_count': 2,\n",
            " 'downloader/response_status_count/200': 1,\n",
            " 'downloader/response_status_count/403': 1,\n",
            " 'elapsed_time_seconds': 2.173498,\n",
            " 'feedexport/success_count/FileFeedStorage': 1,\n",
            " 'finish_reason': 'finished',\n",
            " 'finish_time': datetime.datetime(2024, 7, 28, 14, 15, 47, 918743, tzinfo=datetime.timezone.utc),\n",
            " 'httpcompression/response_bytes': 70297,\n",
            " 'httpcompression/response_count': 1,\n",
            " 'item_scraped_count': 16,\n",
            " 'log_count/DEBUG': 23,\n",
            " 'log_count/INFO': 11,\n",
            " 'memusage/max': 100581376,\n",
            " 'memusage/startup': 100581376,\n",
            " 'response_received_count': 2,\n",
            " 'robotstxt/request_count': 1,\n",
            " 'robotstxt/response_count': 1,\n",
            " 'robotstxt/response_status_count/403': 1,\n",
            " 'scheduler/dequeued': 1,\n",
            " 'scheduler/dequeued/memory': 1,\n",
            " 'scheduler/enqueued': 1,\n",
            " 'scheduler/enqueued/memory': 1,\n",
            " 'start_time': datetime.datetime(2024, 7, 28, 14, 15, 45, 745245, tzinfo=datetime.timezone.utc)}\n",
            "2024-07-28 14:15:47 [scrapy.core.engine] INFO: Spider closed (finished)\n"
          ]
        }
      ]
    },
    {
      "cell_type": "code",
      "source": [
        "import json\n",
        "with open('news_data.json','r') as file:\n",
        "  data=json.load(file)\n",
        "  print(len(data))"
      ],
      "metadata": {
        "colab": {
          "base_uri": "https://localhost:8080/"
        },
        "id": "54c8VjMrZlk8",
        "outputId": "e9c84bbc-b093-496a-ff3b-78eea634b964"
      },
      "execution_count": 7,
      "outputs": [
        {
          "output_type": "stream",
          "name": "stdout",
          "text": [
            "16\n"
          ]
        }
      ]
    },
    {
      "cell_type": "code",
      "source": [
        "npost=data[2]\n",
        "print(f\"Title: {npost['title']}\")\n",
        "print(f\"Description: {npost['description']}\")\n",
        "print(f\"date: {npost['date']}\")"
      ],
      "metadata": {
        "colab": {
          "base_uri": "https://localhost:8080/"
        },
        "id": "c7X-rrYeZnNY",
        "outputId": "af77977a-b0c0-4ddb-fb68-6e1995cc46c5"
      },
      "execution_count": 8,
      "outputs": [
        {
          "output_type": "stream",
          "name": "stdout",
          "text": [
            "Title: فقدان طفل الـ4 سنوات في شاطئ حلق الواد الزوارع بنفزة \n",
            "Description: أكد المدير الجهوي للحماية المدنية بباجة العميد معز بن خليفة في تصريح لمراسل إي أف أم بالجهة جمال الخ...\n",
            "date: الأحد 28 جويلية 2024 - 15:02\n"
          ]
        }
      ]
    }
  ]
}